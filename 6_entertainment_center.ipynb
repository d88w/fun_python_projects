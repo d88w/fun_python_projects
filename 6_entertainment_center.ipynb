{
 "cells": [
  {
   "cell_type": "code",
   "execution_count": 8,
   "metadata": {},
   "outputs": [
    {
     "name": "stdout",
     "output_type": "stream",
     "text": [
      "None\n"
     ]
    }
   ],
   "source": [
    "import media\n",
    "import fresh_tomatoes\n",
    "\n",
    "john_wick = media.Movie(\"John Wick\", \n",
    "                       \"An ex-hit-man comes out of retirement to track down the gangsters that killed his dog and took everything from him.\",\n",
    "                       \"https://m.media-amazon.com/images/M/MV5BMTU2NjA1ODgzMF5BMl5BanBnXkFtZTgwMTM2MTI4MjE@._V1_SY1000_CR0,0,666,1000_AL_.jpg\",\n",
    "                       \"https://youtu.be/RllJtOw0USI\")\n",
    "#print(john_wick.storyline)\n",
    "# john_wick.show_trailer()\n",
    "\n",
    "get_out = media.Movie(\"Get Out\",\n",
    "                     \"A young African-American visits his white girlfriend's parents for the weekend, where his simmering uneasiness about their reception of him eventually reaches a boiling point.\",\n",
    "                     \"https://m.media-amazon.com/images/M/MV5BMjUxMDQwNjcyNl5BMl5BanBnXkFtZTgwNzcwMzc0MTI@._V1_SY1000_CR0,0,675,1000_AL_.jpg\",\n",
    "                     \"https://youtu.be/DzfpyUB60YY\")\n",
    "# print(get_out.storyline)\n",
    "# get_out.show_trailer()\n",
    "\n",
    "atomic_blonde = media.Movie(\"Atomic Blonde\",\n",
    "                     \"An undercover MI6 agent is sent to Berlin during the Cold War to investigate the murder of a fellow agent and recover a missing list of double agents.\",\n",
    "                     \"https://m.media-amazon.com/images/M/MV5BMjM5NDYzMzg5N15BMl5BanBnXkFtZTgwOTM2NDU1MjI@._V1_SY1000_CR0,0,631,1000_AL_.jpg\",\n",
    "                     \"https://youtu.be/yIUube1pSC0\")\n",
    "# print(atomic_blonde.storyline)\n",
    "# atomic_blonde.show_trailer()\n",
    "\n",
    "glass = media.Movie(\"Glass\",\n",
    "                     \"Security guard David Dunn uses his supernatural abilities to track Kevin Wendell Crumb, a disturbed man who has twenty-four personalities.\",\n",
    "                     \"https://m.media-amazon.com/images/M/MV5BMTY1OTA2MjI5OV5BMl5BanBnXkFtZTgwNzkxMjU4NjM@._V1_SY1000_SX700_AL_.jpg\",\n",
    "                     \"https://youtu.be/95ghQs5AmNk\")\n",
    "# print(glass.storyline)\n",
    "# glass.show_trailer()\n",
    "\n",
    "interstellar = media.Movie(\"Interstellar\",\n",
    "                     \"A team of explorers travel through a wormhole in space in an attempt to ensure humanity's survival.\",\n",
    "                     \"https://m.media-amazon.com/images/M/MV5BZjdkOTU3MDktN2IxOS00OGEyLWFmMjktY2FiMmZkNWIyODZiXkEyXkFqcGdeQXVyMTMxODk2OTU@._V1_SY1000_SX675_AL_.jpg\",\n",
    "                     \"https://youtu.be/zSWdZVtXT7E\")\n",
    "# print(interstellar.storyline)\n",
    "# interstellar.show_trailer()\n",
    "\n",
    "inception = media.Movie(\"Inception\",\n",
    "                     \"A thief who steals corporate secrets through the use of dream-sharing technology is given the inverse task of planting an idea into the mind of a CEO.\",\n",
    "                     \"https://m.media-amazon.com/images/M/MV5BMjAxMzY3NjcxNF5BMl5BanBnXkFtZTcwNTI5OTM0Mw@@._V1_SY1000_CR0,0,675,1000_AL_.jpg\",\n",
    "                     \"https://youtu.be/8hP9D6kZseM\")\n",
    "# print(inception.storyline)\n",
    "# inception.show_trailer()\n",
    "\n",
    "movies = [john_wick, get_out, atomic_blonde, glass, interstellar, inception]\n",
    "fresh_tomatoes.open_movies_page(movies)\n",
    "print(media.Movie.VALID_RATINGS)\n",
    "print(media.Movie.__doc__)"
   ]
  },
  {
   "cell_type": "code",
   "execution_count": null,
   "metadata": {},
   "outputs": [],
   "source": []
  },
  {
   "cell_type": "code",
   "execution_count": null,
   "metadata": {},
   "outputs": [],
   "source": []
  }
 ],
 "metadata": {
  "kernelspec": {
   "display_name": "Python 2",
   "language": "python",
   "name": "python2"
  },
  "language_info": {
   "codemirror_mode": {
    "name": "ipython",
    "version": 2
   },
   "file_extension": ".py",
   "mimetype": "text/x-python",
   "name": "python",
   "nbconvert_exporter": "python",
   "pygments_lexer": "ipython2",
   "version": "2.7.15"
  }
 },
 "nbformat": 4,
 "nbformat_minor": 2
}
