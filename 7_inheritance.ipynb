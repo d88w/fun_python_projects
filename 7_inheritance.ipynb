{
 "cells": [
  {
   "cell_type": "code",
   "execution_count": 15,
   "metadata": {},
   "outputs": [
    {
     "name": "stdout",
     "output_type": "stream",
     "text": [
      "Child Constructor Called\n",
      "Parent Constructor Called\n",
      "Last Name - Wang\n",
      "Eye Color - brown\n"
     ]
    }
   ],
   "source": [
    "class Parent():\n",
    "    def __init__(self, last_name, eye_color):\n",
    "        print(\"Parent Constructor Called\")\n",
    "        self.last_name = last_name\n",
    "        self.eye_color = eye_color\n",
    "        \n",
    "    def show_info(self):\n",
    "        print(\"Last Name - \"+self.last_name)\n",
    "        print(\"Eye Color - \"+self.eye_color)\n",
    "        \n",
    "class Child(Parent):\n",
    "    def __init__(self, last_name, eye_color, number_of_toys):\n",
    "        print(\"Child Constructor Called\")\n",
    "        Parent.__init__(self, last_name, eye_color)\n",
    "        self.number_of_toys = number_of_toys\n",
    "\n",
    "\n",
    "xiao_wang = Child(\"Wang\", \"brown\", \"6\")\n",
    "xiao_wang.show_info() #inherits show info from class parent\n"
   ]
  },
  {
   "cell_type": "code",
   "execution_count": 17,
   "metadata": {},
   "outputs": [
    {
     "name": "stdout",
     "output_type": "stream",
     "text": [
      "Child Constructor Called\n",
      "Parent Constructor Called\n",
      "Last Name - Wang\n",
      "Eye Color - brown\n",
      "Number of Toys - 6\n"
     ]
    }
   ],
   "source": [
    "class Parent():\n",
    "    def __init__(self, last_name, eye_color):\n",
    "        print(\"Parent Constructor Called\")\n",
    "        self.last_name = last_name\n",
    "        self.eye_color = eye_color\n",
    "        \n",
    "    def show_info(self):\n",
    "        print(\"Last Name - \"+self.last_name)\n",
    "        print(\"Eye Color - \"+self.eye_color)\n",
    "        \n",
    "class Child(Parent):\n",
    "    def __init__(self, last_name, eye_color, number_of_toys):\n",
    "        print(\"Child Constructor Called\")\n",
    "        Parent.__init__(self, last_name, eye_color)\n",
    "        self.number_of_toys = number_of_toys\n",
    "        \n",
    "    def show_info(self):   #overrides the show_info() function in class Parent()\n",
    "        print(\"Last Name - \"+self.last_name)\n",
    "        print(\"Eye Color - \"+self.eye_color)\n",
    "        print(\"Number of Toys - \"+self.number_of_toys)\n",
    "\n",
    "xiao_wang = Child(\"Wang\", \"brown\", \"6\")\n",
    "xiao_wang.show_info() #inherits show_info() from class parent\n"
   ]
  },
  {
   "cell_type": "code",
   "execution_count": null,
   "metadata": {},
   "outputs": [],
   "source": []
  }
 ],
 "metadata": {
  "kernelspec": {
   "display_name": "Python 2",
   "language": "python",
   "name": "python2"
  },
  "language_info": {
   "codemirror_mode": {
    "name": "ipython",
    "version": 2
   },
   "file_extension": ".py",
   "mimetype": "text/x-python",
   "name": "python",
   "nbconvert_exporter": "python",
   "pygments_lexer": "ipython2",
   "version": "2.7.15"
  }
 },
 "nbformat": 4,
 "nbformat_minor": 2
}
