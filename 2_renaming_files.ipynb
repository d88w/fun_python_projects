{
 "cells": [
  {
   "cell_type": "code",
   "execution_count": 2,
   "metadata": {},
   "outputs": [
    {
     "name": "stdout",
     "output_type": "stream",
     "text": [
      "['gainesville.jpg', 'tel aviv.jpg', 'houston.jpg', 'shanghai.jpg', 'oakland.jpg', 'seattle.jpg', '.DS_Store', 'sunnyvale.jpg', 'athens.jpg', 'sao paulo.jpg', 'beijing.jpg', 'london.jpg', 'chicago.jpg', 'kiev.jpg', 'barcelona.jpg', 'bucharest.jpg', 'berkeley.jpg', 'seoul.jpg', 'new york.jpg', 'junnie', 'san jose.jpg', 'karachi.jpg', 'bangalore.jpg', 'buenos aires.jpg', 'colombo.jpg', 'sydney.jpg', 'cairo.jpg', 'ithaca.jpg', 'los angeles.jpg', 'bogota.jpg', 'jacksonville.jpg', 'hyderabad.jpg', 'rochester.jpg', 'madrid.jpg', 'pune.jpg', 'edinbrugh.jpg', 'singapore.jpg', 'san diego.jpg', 'austin.jpg', 'manchester.jpg', 'istanbul.jpg', 'miami.jpg', 'dallas.jpg', 'delhi.jpg', 'chennai.jpg', 'bristol.jpg']\n",
      "Current working directory is/Users/derekwang/Desktop/Python/udacity python class\n",
      "Current working directory is/Users/derekwang/Desktop/Python/udacity python class/prank\n",
      "Current working directory is/Users/derekwang/Desktop/Python/udacity python class\n",
      "Files has been renamed\n"
     ]
    }
   ],
   "source": [
    "import os\n",
    "def rename_files():\n",
    "    # 1) get the file names from the folder\n",
    "    file_list = os.listdir(\"/Users/derekwang/Desktop/Python/udacity python class/prank\")\n",
    "    print(file_list)\n",
    "    \n",
    "    # 2) for each file, rename the file\n",
    "    saved_path = os.getcwd()\n",
    "    print(\"Current working directory is\"+saved_path)\n",
    "    os.chdir(\"/Users/derekwang/Desktop/Python/udacity python class/prank\")\n",
    "    print(\"Current working directory is\"+os.getcwd()) \n",
    "    for file_name in file_list:\n",
    "        file_name_new = file_name.translate(None, \"0123456789\")\n",
    "        os.rename(file_name, file_name_new)\n",
    "    os.chdir(saved_path)\n",
    "    print(\"Current working directory is\"+saved_path)\n",
    "    print(\"Files has been renamed\")\n",
    "rename_files()"
   ]
  },
  {
   "cell_type": "code",
   "execution_count": 5,
   "metadata": {},
   "outputs": [
    {
     "name": "stdout",
     "output_type": "stream",
     "text": [
      "['.DS_Store', 'dogs.jpg', 'hogs.jpg', 'bucharest copy .jpg', 'other', 'eggs.jpg', 'gas.jpg', 'cat.jpg', 'icecream.jpg', 'fox.jpg', 'airpower.jpg']\n",
      "Current working directory is/Users/derekwang/Desktop/Python/udacity python class\n",
      "Current working directory is/Users/derekwang/Desktop/Python/udacity python class/prank/junnie\n",
      "Current working directory is/Users/derekwang/Desktop/Python/udacity python class\n",
      "Files has been renamed\n"
     ]
    }
   ],
   "source": [
    "import os\n",
    "def rename_files():\n",
    "    # 1) get the file names from the folder\n",
    "    file_list = os.listdir(\"/Users/derekwang/Desktop/Python/udacity python class/prank/junnie\")\n",
    "    print(file_list)\n",
    "    \n",
    "    # 2) for each file, rename the file\n",
    "    saved_path = os.getcwd()\n",
    "    print(\"Current working directory is\"+saved_path)\n",
    "    os.chdir(\"/Users/derekwang/Desktop/Python/udacity python class/prank/junnie\")\n",
    "    print(\"Current working directory is\"+os.getcwd()) \n",
    "    for file_name in file_list:\n",
    "        file_name_new = file_name.translate(None, \"0123456789\")\n",
    "        os.rename(file_name, file_name_new)\n",
    "    os.chdir(saved_path)\n",
    "    print(\"Current working directory is\"+saved_path)\n",
    "    print(\"Files has been renamed\")\n",
    "rename_files()"
   ]
  },
  {
   "cell_type": "code",
   "execution_count": null,
   "metadata": {},
   "outputs": [],
   "source": []
  },
  {
   "cell_type": "code",
   "execution_count": null,
   "metadata": {},
   "outputs": [],
   "source": []
  },
  {
   "cell_type": "code",
   "execution_count": null,
   "metadata": {},
   "outputs": [],
   "source": []
  }
 ],
 "metadata": {
  "kernelspec": {
   "display_name": "Python 2",
   "language": "python",
   "name": "python2"
  },
  "language_info": {
   "codemirror_mode": {
    "name": "ipython",
    "version": 2
   },
   "file_extension": ".py",
   "mimetype": "text/x-python",
   "name": "python",
   "nbconvert_exporter": "python",
   "pygments_lexer": "ipython2",
   "version": "2.7.15"
  }
 },
 "nbformat": 4,
 "nbformat_minor": 2
}
