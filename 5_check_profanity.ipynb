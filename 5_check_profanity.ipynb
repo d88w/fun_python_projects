{
 "cells": [
  {
   "cell_type": "code",
   "execution_count": 21,
   "metadata": {},
   "outputs": [
    {
     "name": "stdout",
     "output_type": "stream",
     "text": [
      "Text to check: '-- Houston, we have a problem. (Apollo 13)\n",
      "\n",
      "-- Mama always said, life is like a box of chocolates. You never know what you are going to get. (Forrest Gump)\n",
      "\n",
      "-- You cant handle the truth. (A Few Good Men)\n",
      "\n",
      "-- I believe everything and I believe nothing. (A Shot in the Dark)\n",
      "'\n",
      "Profanity check result: You are good to go pimp!\n"
     ]
    }
   ],
   "source": [
    "import urllib\n",
    "\n",
    "def read_text():\n",
    "    quotes = open(\"/Users/derekwang/Desktop/Python/udacity python class/movie_quotes.txt\")\n",
    "    contents = quotes.read()\n",
    "    print(\"Text to check: '\"+contents+\"'\")\n",
    "    quotes.close()\n",
    "    check_prof(contents) #use check_prof to check the content we read here\n",
    "\n",
    "def check_prof(text_to_check):\n",
    "    connection = urllib.urlopen(\"http://www.wdylike.appspot.com/?q=\"+text_to_check)\n",
    "    output = connection.read()\n",
    "    #print(\"Profanity check result: \"+output)\n",
    "    connection.close\n",
    "    if \"true\" in output:\n",
    "        print(\"Profanity check result: Profanity Alert! You dirty dog!\")\n",
    "    elif \"false\" in output:\n",
    "        print(\"Profanity check result: You are good to go pimp!\")\n",
    "    else:\n",
    "        print(\"Profanity check result: Something went wrong, nothing was found.\")\n",
    "        \n",
    "read_text()"
   ]
  },
  {
   "cell_type": "code",
   "execution_count": 28,
   "metadata": {},
   "outputs": [
    {
     "name": "stdout",
     "output_type": "stream",
     "text": [
      "Text to check: '-- Houston, we have a problem. (Apollo 13)\n",
      "\n",
      "-- Mama always said, life is like a box of chocolates. You never know what you are going to get. (Forrest Gump)\n",
      "\n",
      "-- You cant handle the truth. (A Few Good Men)\n",
      "\n",
      "-- I believe everything and I believe nothing. (A Shot in the Dark)\n",
      "\n",
      "\n",
      "\n",
      "'\n",
      "Profanity check result: You are good to go pimp!\n"
     ]
    }
   ],
   "source": [
    "import urllib\n",
    "\n",
    "#define check prof first\n",
    "def check_prof(text_to_check):\n",
    "    connection = urllib.urlopen(\"http://www.wdylike.appspot.com/?q=\"+text_to_check)\n",
    "    output = connection.read()\n",
    "    #print(\"Profanity check result: \"+output)\n",
    "    connection.close\n",
    "    if \"true\" in output:\n",
    "        print(\"Profanity check result: Profanity Alert! You dirty dog!\")\n",
    "    elif \"false\" in output:\n",
    "        print(\"Profanity check result: You are good to go pimp!\")\n",
    "    else:\n",
    "        print(\"Profanity check result: Something went wrong, nothing was found.\")\n",
    "\n",
    "#read any file link and check for profanity\n",
    "def check(file_link):\n",
    "    quotes = open(file_link)\n",
    "    contents = quotes.read()\n",
    "    print(\"Text to check: '\"+contents+\"'\")\n",
    "    quotes.close()\n",
    "    check_prof(contents) #included previous function\n",
    "\n",
    "    \n",
    "#put in the file name:\n",
    "check(\"/Users/derekwang/Desktop/Python/udacity python class/movie_quotes.txt\")"
   ]
  },
  {
   "cell_type": "code",
   "execution_count": 34,
   "metadata": {},
   "outputs": [
    {
     "name": "stdout",
     "output_type": "stream",
     "text": [
      "Text to check: '-- Houston, we have a problem. (Apollo 13)\n",
      "\n",
      "-- Mama always said, life is like a box of chocolates. You never know what you are going to get. (Forrest Gump)\n",
      "\n",
      "-- You cant handle the truth. (A Few Good Men)\n",
      "\n",
      "-- I believe everything and I believe nothing. (A Shot in the Dark)\n",
      "\n",
      "-- fuck (Derek)\n",
      "\n",
      "'\n",
      "SM790a519983ef4cabb2fb562429ae8077\n"
     ]
    }
   ],
   "source": [
    "import urllib\n",
    "from twilio import rest\n",
    "\n",
    "#define check prof first\n",
    "def check_prof(text_to_check):\n",
    "    connection = urllib.urlopen(\"http://www.wdylike.appspot.com/?q=\"+text_to_check)\n",
    "    output = connection.read()\n",
    "    #print(\"Profanity check result: \"+output)\n",
    "    connection.close\n",
    "    \n",
    "    #text body based on check result\n",
    "    if \"true\" in output:\n",
    "        m_body = \"Profanity check result: Profanity Alert! You dirty dog!\"\n",
    "    elif \"false\" in output:\n",
    "        m_body = \"Profanity check result: You are good to go pimp!\"\n",
    "    else:\n",
    "        m_body = \"Profanity check result: Something went wrong, nothing was found.\"\n",
    "        \n",
    "    # twilio: Your Account SID from twilio.com/console\n",
    "    account_sid = \"ACbdcd8e86fa1860a392ebfb567701fb5a\"\n",
    "    # twilio: Your Auth Token from twilio.com/console\n",
    "    auth_token  = \"fe3ad972e37e343a1fb71c90571601a3\"\n",
    "    client = rest.TwilioRestClient(account_sid, auth_token)\n",
    "    \n",
    "    #send text via twilio\n",
    "    message = client.messages.create(\n",
    "        to=\"+15102896111\", \n",
    "        from_=\"+19496196111\",\n",
    "        body= m_body)\n",
    "    \n",
    "    print(message.sid)\n",
    "\n",
    "#read any file link and check for profanity\n",
    "def check(file_link):\n",
    "    quotes = open(file_link)\n",
    "    contents = quotes.read()\n",
    "    print(\"Text to check: '\"+contents+\"'\")\n",
    "    quotes.close()\n",
    "    check_prof(contents) #included previous function\n",
    "    \n",
    "#put in the file name:\n",
    "check(\"/Users/derekwang/Desktop/Python/udacity python class/movie_quotes.txt\")"
   ]
  },
  {
   "cell_type": "code",
   "execution_count": null,
   "metadata": {},
   "outputs": [],
   "source": []
  }
 ],
 "metadata": {
  "kernelspec": {
   "display_name": "Python 3",
   "language": "python",
   "name": "python3"
  },
  "language_info": {
   "codemirror_mode": {
    "name": "ipython",
    "version": 3
   },
   "file_extension": ".py",
   "mimetype": "text/x-python",
   "name": "python",
   "nbconvert_exporter": "python",
   "pygments_lexer": "ipython3",
   "version": "3.6.0"
  }
 },
 "nbformat": 4,
 "nbformat_minor": 2
}
