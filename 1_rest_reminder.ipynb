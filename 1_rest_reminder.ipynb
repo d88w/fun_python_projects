{
 "cells": [
  {
   "cell_type": "code",
   "execution_count": null,
   "metadata": {},
   "outputs": [
    {
     "name": "stdout",
     "output_type": "stream",
     "text": [
      "This program started on Sat Jan 26 18:25:18 2019\n",
      "The current timer started on Sat Jan 26 18:25:18 2019\n",
      "The current timer started on Sat Jan 26 18:55:18 2019\n"
     ]
    }
   ],
   "source": [
    "import webbrowser\n",
    "import time\n",
    "\n",
    "#using for loop\n",
    "print(\"This program started on \"+time.ctime())\n",
    "for i in range(1,4):\n",
    "    #if i == 3: break\n",
    "    print(\"The current timer started on \"+time.ctime())\n",
    "    time.sleep(30*60)\n",
    "    webbrowser.open(\"https://youtu.be/UhK_YP7jP6o?t=85\")"
   ]
  },
  {
   "cell_type": "code",
   "execution_count": 17,
   "metadata": {},
   "outputs": [
    {
     "name": "stdout",
     "output_type": "stream",
     "text": [
      "This program started on Sat Jan 26 16:32:36 2019\n",
      "This program started on Sat Jan 26 16:32:40 2019\n",
      "This program started on Sat Jan 26 16:32:43 2019\n"
     ]
    }
   ],
   "source": [
    "#using while loop\n",
    "\n",
    "total_breaks = 3\n",
    "break_count = 0\n",
    "print(\"This program started on \"+time.ctime())\n",
    "while(break_count < total_breaks):\n",
    "    print(\"The current timer started on \"+time.ctime())\n",
    "    time.sleep(3)\n",
    "    webbrowser.open(\"https://youtu.be/UhK_YP7jP6o?t=85\")\n",
    "    break_count = break_count + 1"
   ]
  },
  {
   "cell_type": "code",
   "execution_count": null,
   "metadata": {},
   "outputs": [],
   "source": []
  }
 ],
 "metadata": {
  "kernelspec": {
   "display_name": "Python 2",
   "language": "python",
   "name": "python2"
  },
  "language_info": {
   "codemirror_mode": {
    "name": "ipython",
    "version": 2
   },
   "file_extension": ".py",
   "mimetype": "text/x-python",
   "name": "python",
   "nbconvert_exporter": "python",
   "pygments_lexer": "ipython2",
   "version": "2.7.15"
  }
 },
 "nbformat": 4,
 "nbformat_minor": 2
}
