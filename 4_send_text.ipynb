{
 "cells": [
  {
   "cell_type": "code",
   "execution_count": 14,
   "metadata": {},
   "outputs": [
    {
     "name": "stdout",
     "output_type": "stream",
     "text": [
      "SMb7cf8aad87d94b33b200c06dbd826c9b\n"
     ]
    }
   ],
   "source": [
    "import twilio\n",
    "from twilio.rest import TwilioRestClient \n",
    "# telling the computer: go to \"twilio\", and find the folder \"rest\", and import the class \"TwilioRestClient\"\n",
    "\n",
    "# Your Account SID from twilio.com/console\n",
    "account_sid = \"A***\"\n",
    "# Your Auth Token from twilio.com/console\n",
    "auth_token  = \"****\"\n",
    "\n",
    "client = TwilioRestClient(account_sid, auth_token)\n",
    "\n",
    "message = client.messages.create(\n",
    "    to=\"+15303021111\", \n",
    "    from_=\"+19496196111\",\n",
    "    body=\"Good morning!!\")\n",
    "\n",
    "print(message.sid)"
   ]
  },
  {
   "cell_type": "code",
   "execution_count": 15,
   "metadata": {},
   "outputs": [
    {
     "name": "stdout",
     "output_type": "stream",
     "text": [
      "SM1886bc522f13438fb808624d3c8d54c1\n"
     ]
    }
   ],
   "source": [
    "from twilio import rest\n",
    "# telling the computer: go to \"twilio\", and import the folder \"rest\"\n",
    "\n",
    "# Your Account SID from twilio.com/console\n",
    "account_sid = \"A***\"\n",
    "# Your Auth Token from twilio.com/console\n",
    "auth_token  = \"****\"\n",
    "\n",
    "client = rest.TwilioRestClient(account_sid, auth_token)\n",
    "\n",
    "message = client.messages.create(\n",
    "    to=\"+15303021111\", \n",
    "    from_=\"+19496196111\",\n",
    "    body=\"Today is gonna be a good good day!\")\n",
    "\n",
    "print(message.sid)"
   ]
  },
  {
   "cell_type": "code",
   "execution_count": 16,
   "metadata": {},
   "outputs": [
    {
     "name": "stdout",
     "output_type": "stream",
     "text": [
      "SM39379049a79145ae8a95245d52282c8f\n"
     ]
    }
   ],
   "source": [
    "import twilio\n",
    "# telling the computer: import \"twilio\"\n",
    "\n",
    "# Your Account SID from twilio.com/console\n",
    "account_sid = \"A***\"\n",
    "# Your Auth Token from twilio.com/console\n",
    "auth_token  = \"****\"\n",
    "\n",
    "client = twilio.rest.TwilioRestClient(account_sid, auth_token)\n",
    "\n",
    "message = client.messages.create(\n",
    "    to=\"+15303021111\", \n",
    "    from_=\"+19496196111\",\n",
    "    body=\"Morning!\")\n",
    "\n",
    "print(message.sid)"
   ]
  },
  {
   "cell_type": "code",
   "execution_count": 18,
   "metadata": {},
   "outputs": [
    {
     "name": "stdout",
     "output_type": "stream",
     "text": [
      "SM559679e531894a2b9aa27b5b9f8770dc\n"
     ]
    }
   ],
   "source": [
    "import twilio\n",
    "# telling the computer: import \"twilio\"\n",
    "\n",
    "# Your Account SID from twilio.com/console\n",
    "account_sid = \"A***\"\n",
    "# Your Auth Token from twilio.com/console\n",
    "auth_token  = \"****\"\n",
    "\n",
    "client = rest.TwilioRestClient(account_sid, auth_token)\n",
    "\n",
    "message = client.messages.create(\n",
    "    to=\"+15303021111\", \n",
    "    from_=\"+19496196111\",\n",
    "    body=\"YAY!!\")\n",
    "\n",
    "print(message.sid)"
   ]
  },
  {
   "cell_type": "code",
   "execution_count": null,
   "metadata": {},
   "outputs": [],
   "source": []
  }
 ],
 "metadata": {
  "kernelspec": {
   "display_name": "Python 3",
   "language": "python",
   "name": "python3"
  },
  "language_info": {
   "codemirror_mode": {
    "name": "ipython",
    "version": 3
   },
   "file_extension": ".py",
   "mimetype": "text/x-python",
   "name": "python",
   "nbconvert_exporter": "python",
   "pygments_lexer": "ipython3",
   "version": "3.6.0"
  }
 },
 "nbformat": 4,
 "nbformat_minor": 2
}
